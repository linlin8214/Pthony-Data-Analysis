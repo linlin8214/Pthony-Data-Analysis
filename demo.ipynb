{
 "cells": [
  {
   "cell_type": "markdown",
   "id": "f9460cca-56e0-4eb5-a8fd-3345248a37e9",
   "metadata": {},
   "source": [
    "# 坚持"
   ]
  },
  {
   "cell_type": "markdown",
   "id": "5ccfe6a6-343d-47b1-9bed-f4b395533765",
   "metadata": {},
   "source": [
    "## 集中"
   ]
  },
  {
   "cell_type": "markdown",
   "id": "54242e34-b6ae-4d00-adba-a46370a19790",
   "metadata": {},
   "source": [
    "~~nihao~~"
   ]
  },
  {
   "cell_type": "markdown",
   "id": "87fd87ba-941a-4cdb-93a2-3626f75c126d",
   "metadata": {},
   "source": [
    "离离原上草  一岁一枯荣"
   ]
  },
  {
   "cell_type": "markdown",
   "id": "479e4291-eacc-4b75-806d-3d9548fc6164",
   "metadata": {},
   "source": [
    "1. 11\n",
    "2. 22\n",
    "3. 33\n",
    "4. 44"
   ]
  },
  {
   "cell_type": "markdown",
   "id": "99c66b02-1fbd-4f64-b45d-66c903fb36f0",
   "metadata": {},
   "source": [
    "- 11\n",
    "- 22\n",
    "- 33"
   ]
  },
  {
   "cell_type": "markdown",
   "id": "4482765d-3ec8-455e-82d5-f4e4a88905cf",
   "metadata": {},
   "source": [
    "```python\n",
    "import math\n",
    "ptint(\"hellow world\")\n",
    "``` "
   ]
  },
  {
   "cell_type": "code",
   "execution_count": 2,
   "id": "596f8e03-a96b-44a4-ae26-9e72fb9fd7ec",
   "metadata": {},
   "outputs": [],
   "source": [
    "import numpy as np"
   ]
  },
  {
   "cell_type": "code",
   "execution_count": 3,
   "id": "28796ef4-2f94-4083-b697-13e5439fb865",
   "metadata": {},
   "outputs": [
    {
     "data": {
      "text/plain": [
       "array([ 6,  2, -7,  2,  8])"
      ]
     },
     "execution_count": 3,
     "metadata": {},
     "output_type": "execute_result"
    }
   ],
   "source": [
    "arr1 = np.array([6,2,-7,2,8])\n",
    "arr1"
   ]
  },
  {
   "cell_type": "code",
   "execution_count": 10,
   "id": "58ccf73f-09f8-4312-a3f2-aaaaad2b5d9e",
   "metadata": {},
   "outputs": [
    {
     "data": {
      "text/plain": [
       "array([[1, 2, 3],\n",
       "       [4, 5, 6]])"
      ]
     },
     "execution_count": 10,
     "metadata": {},
     "output_type": "execute_result"
    }
   ],
   "source": [
    "arr2 = np.array([[1,2,3],[4,5,6]])\n",
    "arr2"
   ]
  },
  {
   "cell_type": "markdown",
   "id": "f0f00656-178c-42a0-8ed7-e379df5a9609",
   "metadata": {},
   "source": [
    "分别打印元素的维度形状数量类型"
   ]
  },
  {
   "cell_type": "code",
   "execution_count": 7,
   "id": "3217f8f8-e543-4376-a6ae-9b176f9bc135",
   "metadata": {},
   "outputs": [
    {
     "name": "stdout",
     "output_type": "stream",
     "text": [
      "1\n",
      "2\n"
     ]
    }
   ],
   "source": [
    "print(arr1.ndim)\n",
    "print(arr2.ndim)"
   ]
  },
  {
   "cell_type": "code",
   "execution_count": 8,
   "id": "ebcd5235-7cf2-4bb4-b262-6891c1366738",
   "metadata": {},
   "outputs": [
    {
     "name": "stdout",
     "output_type": "stream",
     "text": [
      "(5,)\n",
      "(2, 3)\n"
     ]
    }
   ],
   "source": [
    "print(arr1.shape)\n",
    "print(arr2.shape)"
   ]
  },
  {
   "cell_type": "code",
   "execution_count": 11,
   "id": "d7633ac7-5a05-4127-95a1-43cacada9bc2",
   "metadata": {},
   "outputs": [
    {
     "name": "stdout",
     "output_type": "stream",
     "text": [
      "5\n",
      "6\n"
     ]
    }
   ],
   "source": [
    "print(arr1.size)\n",
    "print(arr2.size)"
   ]
  },
  {
   "cell_type": "code",
   "execution_count": 12,
   "id": "a68faa00-286e-4477-b6e2-7c88e99ce6f6",
   "metadata": {},
   "outputs": [
    {
     "name": "stdout",
     "output_type": "stream",
     "text": [
      "int32\n",
      "int32\n"
     ]
    }
   ],
   "source": [
    "print(arr1.dtype)\n",
    "print(arr2.dtype)"
   ]
  },
  {
   "cell_type": "markdown",
   "id": "a534d0fa-019f-47da-83f1-865a2875cf38",
   "metadata": {},
   "source": [
    "创建6个0的一维数组"
   ]
  },
  {
   "cell_type": "code",
   "execution_count": 14,
   "id": "b40b3a78-7854-4c4d-9c2b-f7e7cd8fa051",
   "metadata": {},
   "outputs": [
    {
     "data": {
      "text/plain": [
       "array([0., 0., 0., 0., 0., 0.])"
      ]
     },
     "execution_count": 14,
     "metadata": {},
     "output_type": "execute_result"
    }
   ],
   "source": [
    "arr_all_0 = np.zeros(6)\n",
    "arr_all_0"
   ]
  },
  {
   "cell_type": "code",
   "execution_count": null,
   "id": "c335271c-898f-448e-be9b-5b8169ea2b71",
   "metadata": {},
   "outputs": [],
   "source": [
    "创建6个1的一维数组"
   ]
  },
  {
   "cell_type": "code",
   "execution_count": 15,
   "id": "d7f4cf40-51d9-4076-b949-13a3d3232f8b",
   "metadata": {},
   "outputs": [
    {
     "data": {
      "text/plain": [
       "array([1., 1., 1., 1., 1., 1.])"
      ]
     },
     "execution_count": 15,
     "metadata": {},
     "output_type": "execute_result"
    }
   ],
   "source": [
    "arr_all_1 = np.ones(6)\n",
    "arr_all_1"
   ]
  },
  {
   "cell_type": "code",
   "execution_count": null,
   "id": "651f7b0c-cd91-4e4b-bca1-a577bfc997e7",
   "metadata": {},
   "outputs": [],
   "source": [
    "创建一维数组是10-20的偶数"
   ]
  },
  {
   "cell_type": "code",
   "execution_count": 19,
   "id": "0f65efd0-f7ea-4499-81f7-efc77cc8736e",
   "metadata": {},
   "outputs": [
    {
     "data": {
      "text/plain": [
       "array([10, 12, 14, 16, 18, 20])"
      ]
     },
     "execution_count": 19,
     "metadata": {},
     "output_type": "execute_result"
    }
   ],
   "source": [
    "arr_even = np.arange(10,21,2)\n",
    "arr_even"
   ]
  },
  {
   "cell_type": "code",
   "execution_count": 20,
   "id": "26935f54-b478-446b-b700-57074cb64f65",
   "metadata": {},
   "outputs": [],
   "source": [
    "arr11 = np.array([1,3,2,4,9])\n",
    "arr22 = np.ones(5)\n",
    "arr33 = np.zeros(3)"
   ]
  },
  {
   "cell_type": "code",
   "execution_count": 21,
   "id": "266c55d7-98dd-4047-bf75-67b1158e11ea",
   "metadata": {},
   "outputs": [
    {
     "data": {
      "text/plain": [
       "array([1., 3., 2., 4., 9., 1., 1., 1., 1., 1., 0., 0., 0.])"
      ]
     },
     "execution_count": 21,
     "metadata": {},
     "output_type": "execute_result"
    }
   ],
   "source": [
    "arr4 = np.concatenate([arr11,arr22,arr33])\n",
    "arr4"
   ]
  },
  {
   "cell_type": "code",
   "execution_count": 27,
   "id": "43043588-d9d3-476f-9f50-204692b3e4f9",
   "metadata": {},
   "outputs": [
    {
     "data": {
      "text/plain": [
       "array([1, 2, 3, 4, 9])"
      ]
     },
     "execution_count": 27,
     "metadata": {},
     "output_type": "execute_result"
    }
   ],
   "source": [
    "sorted_arr11 = np.sort(arr11)\n",
    "sorted_arr11 "
   ]
  },
  {
   "cell_type": "code",
   "execution_count": 26,
   "id": "0c75acff-34da-456b-9979-b04c0b46a844",
   "metadata": {},
   "outputs": [
    {
     "data": {
      "text/plain": [
       "array([1, 2, 3, 4, 9])"
      ]
     },
     "execution_count": 26,
     "metadata": {},
     "output_type": "execute_result"
    }
   ],
   "source": [
    "arr11.sort()\n",
    "arr11"
   ]
  },
  {
   "cell_type": "code",
   "execution_count": 29,
   "id": "39b9068a-7393-4d0e-b98f-f313abaf5d90",
   "metadata": {},
   "outputs": [
    {
     "name": "stdout",
     "output_type": "stream",
     "text": [
      "3\n",
      "3\n"
     ]
    }
   ],
   "source": [
    "print(arr11[2])\n",
    "print(arr11[-3])"
   ]
  },
  {
   "cell_type": "code",
   "execution_count": 32,
   "id": "b210ddc0-5f92-48c6-a77f-21efede707e8",
   "metadata": {},
   "outputs": [
    {
     "data": {
      "text/plain": [
       "array([2, 3, 4])"
      ]
     },
     "execution_count": 32,
     "metadata": {},
     "output_type": "execute_result"
    }
   ],
   "source": [
    "arr11[1:4]"
   ]
  },
  {
   "cell_type": "code",
   "execution_count": 33,
   "id": "c5ecb528-9c34-4099-bf0b-4b9557430c95",
   "metadata": {},
   "outputs": [
    {
     "data": {
      "text/plain": [
       "array([ -5, -10, -15, -20, -45])"
      ]
     },
     "execution_count": 33,
     "metadata": {},
     "output_type": "execute_result"
    }
   ],
   "source": [
    "arr11 * -5"
   ]
  },
  {
   "cell_type": "code",
   "execution_count": 39,
   "id": "d770d4b3-b14a-412b-8b3d-e4bc31537163",
   "metadata": {},
   "outputs": [
    {
     "name": "stdout",
     "output_type": "stream",
     "text": [
      "9\n",
      "1\n",
      "3.8\n",
      "19\n"
     ]
    }
   ],
   "source": [
    "print(arr11.max())\n",
    "print(arr11.min())\n",
    "print(arr11.mean())\n",
    "print(arr11.sum())"
   ]
  },
  {
   "cell_type": "code",
   "execution_count": 40,
   "id": "a7ff3295-ee1a-40c1-86fb-997132c7e46a",
   "metadata": {},
   "outputs": [
    {
     "data": {
      "text/plain": [
       "array([4, 9])"
      ]
     },
     "execution_count": 40,
     "metadata": {},
     "output_type": "execute_result"
    }
   ],
   "source": [
    "arr11[(arr11>3)|(arr11<1)]"
   ]
  },
  {
   "cell_type": "code",
   "execution_count": 38,
   "id": "691dd633-94fc-48ac-b001-697bc4a8e50b",
   "metadata": {},
   "outputs": [
    {
     "data": {
      "text/plain": [
       "array([ 2.,  3.,  4.,  5., 10.])"
      ]
     },
     "execution_count": 38,
     "metadata": {},
     "output_type": "execute_result"
    }
   ],
   "source": [
    "arr11 +arr22"
   ]
  },
  {
   "cell_type": "code",
   "execution_count": 2,
   "id": "3a657605-443d-47b8-a1af-f70f02506fc9",
   "metadata": {},
   "outputs": [],
   "source": [
    "import pandas as pd"
   ]
  },
  {
   "cell_type": "code",
   "execution_count": 2,
   "id": "3edd0048-972c-4e10-9484-37a2a4cd4134",
   "metadata": {},
   "outputs": [
    {
     "data": {
      "text/plain": [
       "0   -1.2\n",
       "1    3.7\n",
       "2    2.5\n",
       "3   -8.2\n",
       "4    6.3\n",
       "dtype: float64"
      ]
     },
     "execution_count": 2,
     "metadata": {},
     "output_type": "execute_result"
    }
   ],
   "source": [
    "s1 = pd.Series([-1.2,3.7,2.5,-8.2,6.3])\n",
    "s1"
   ]
  },
  {
   "cell_type": "code",
   "execution_count": 4,
   "id": "71a0e45a-ef77-4990-8a27-c84098883bf1",
   "metadata": {},
   "outputs": [
    {
     "name": "stdout",
     "output_type": "stream",
     "text": [
      "[-1.2  3.7  2.5 -8.2  6.3]\n",
      "RangeIndex(start=0, stop=5, step=1)\n"
     ]
    }
   ],
   "source": [
    "print(s1.values)\n",
    "print(s1.index)"
   ]
  },
  {
   "cell_type": "code",
   "execution_count": 11,
   "id": "214f08ab-8f4a-49b6-b629-b7ff30a65da4",
   "metadata": {},
   "outputs": [
    {
     "data": {
      "text/plain": [
       "5    1\n",
       "4    2\n",
       "3    3\n",
       "2    4\n",
       "1    5\n",
       "dtype: int64"
      ]
     },
     "execution_count": 11,
     "metadata": {},
     "output_type": "execute_result"
    }
   ],
   "source": [
    "s2 = pd.Series([1,2,3,4,5],index=[5,4,3,2,1])\n",
    "s2"
   ]
  },
  {
   "cell_type": "code",
   "execution_count": 10,
   "id": "e93e45d4-e18e-481c-930c-503441d67688",
   "metadata": {},
   "outputs": [
    {
     "name": "stdout",
     "output_type": "stream",
     "text": [
      "2\n"
     ]
    }
   ],
   "source": [
    "s2.iloc[1]"
   ]
  },
  {
   "cell_type": "code",
   "execution_count": 15,
   "id": "295f2b30-c3f2-4e6c-a1b8-7a360617a809",
   "metadata": {},
   "outputs": [
    {
     "data": {
      "text/plain": [
       "5    1\n",
       "4    2\n",
       "3    3\n",
       "dtype: int64"
      ]
     },
     "execution_count": 15,
     "metadata": {},
     "output_type": "execute_result"
    }
   ],
   "source": [
    "s2.loc[5:3]"
   ]
  },
  {
   "cell_type": "code",
   "execution_count": 3,
   "id": "310639e1-00b1-4106-b7c2-9544f3ebfebd",
   "metadata": {},
   "outputs": [
    {
     "data": {
      "text/plain": [
       "小李    82\n",
       "小陈    93\n",
       "小张    91\n",
       "小曾    78\n",
       "小邓    68\n",
       "dtype: int64"
      ]
     },
     "execution_count": 3,
     "metadata": {},
     "output_type": "execute_result"
    }
   ],
   "source": [
    "s3 = pd.Series({\"小李\":82,\"小陈\":93,\"小张\":91,\"小曾\":78,\"小邓\":68})\n",
    "s3"
   ]
  },
  {
   "cell_type": "code",
   "execution_count": 20,
   "id": "9c961a46-6d62-4c2c-b5c1-47939679edeb",
   "metadata": {},
   "outputs": [
    {
     "data": {
      "text/plain": [
       "小李    82\n",
       "小陈    93\n",
       "小张    95\n",
       "小曾    78\n",
       "小邓    68\n",
       "dtype: int64"
      ]
     },
     "execution_count": 20,
     "metadata": {},
     "output_type": "execute_result"
    }
   ],
   "source": [
    "s3.loc[\"小张\"] = 95\n",
    "s3"
   ]
  },
  {
   "cell_type": "code",
   "execution_count": 24,
   "id": "acb45923-d96e-434b-8e5f-9dad30b0ba27",
   "metadata": {},
   "outputs": [
    {
     "data": {
      "text/plain": [
       "小李    82\n",
       "小陈    93\n",
       "小张    95\n",
       "小曾    78\n",
       "小邓    68\n",
       "dtype: int64"
      ]
     },
     "execution_count": 24,
     "metadata": {},
     "output_type": "execute_result"
    }
   ],
   "source": [
    "s3[(s3>80) & (s3<90)]\n",
    "s3"
   ]
  },
  {
   "cell_type": "code",
   "execution_count": null,
   "id": "3ac650be-ddfa-4e2d-b435-142df870fa08",
   "metadata": {},
   "outputs": [],
   "source": []
  }
 ],
 "metadata": {
  "kernelspec": {
   "display_name": "Python 3 (ipykernel)",
   "language": "python",
   "name": "python3"
  },
  "language_info": {
   "codemirror_mode": {
    "name": "ipython",
    "version": 3
   },
   "file_extension": ".py",
   "mimetype": "text/x-python",
   "name": "python",
   "nbconvert_exporter": "python",
   "pygments_lexer": "ipython3",
   "version": "3.12.3"
  }
 },
 "nbformat": 4,
 "nbformat_minor": 5
}
